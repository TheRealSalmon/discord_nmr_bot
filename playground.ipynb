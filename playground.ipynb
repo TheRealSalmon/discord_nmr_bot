{
 "cells": [
  {
   "cell_type": "code",
   "execution_count": 38,
   "metadata": {},
   "outputs": [],
   "source": [
    "import os\n",
    "\n",
    "import pandas as pd\n",
    "\n",
    "from rdkit import Chem"
   ]
  },
  {
   "cell_type": "code",
   "execution_count": 20,
   "metadata": {},
   "outputs": [],
   "source": [
    "def canonical(smi):\n",
    "    return Chem.MolToSmiles(Chem.MolFromSmiles(smi))"
   ]
  },
  {
   "cell_type": "code",
   "execution_count": 21,
   "metadata": {},
   "outputs": [
    {
     "name": "stdout",
     "output_type": "stream",
     "text": [
      "C#CC(=O)OCC\n"
     ]
    },
    {
     "data": {
      "image/png": "[encoded data removed]",
      "text/plain": [
       "<rdkit.Chem.rdchem.Mol at 0x123bacb20>"
      ]
     },
     "execution_count": 21,
     "metadata": {},
     "output_type": "execute_result"
    }
   ],
   "source": [
    "smi = 'O=C(C#C)OCC'\n",
    "print(canonical(smi))\n",
    "mol = Chem.MolFromSmiles(smi)\n",
    "mol"
   ]
  },
  {
   "cell_type": "code",
   "execution_count": 18,
   "metadata": {},
   "outputs": [
    {
     "data": {
      "text/plain": [
       "'FMVJYQGSRWVMQV-UHFFFAOYNA-N'"
      ]
     },
     "execution_count": 18,
     "metadata": {},
     "output_type": "execute_result"
    }
   ],
   "source": [
    "taut_inchikey = Chem.MolToInchiKey(mol, '/FixedH')\n",
    "taut_inchikey"
   ]
  },
  {
   "cell_type": "code",
   "execution_count": 19,
   "metadata": {},
   "outputs": [
    {
     "data": {
      "text/plain": [
       "'FMVJYQGSRWVMQV-UHFFFAOYSA-N'"
      ]
     },
     "execution_count": 19,
     "metadata": {},
     "output_type": "execute_result"
    }
   ],
   "source": [
    "std_inchikey = Chem.MolToInchiKey(mol)\n",
    "std_inchikey"
   ]
  },
  {
   "cell_type": "code",
   "execution_count": 30,
   "metadata": {},
   "outputs": [
    {
     "data": {
      "text/html": [
       "<div>\n",
       "<style scoped>\n",
       "    .dataframe tbody tr th:only-of-type {\n",
       "        vertical-align: middle;\n",
       "    }\n",
       "\n",
       "    .dataframe tbody tr th {\n",
       "        vertical-align: top;\n",
       "    }\n",
       "\n",
       "    .dataframe thead th {\n",
       "        text-align: right;\n",
       "    }\n",
       "</style>\n",
       "<table border=\"1\" class=\"dataframe\">\n",
       "  <thead>\n",
       "    <tr style=\"text-align: right;\">\n",
       "      <th></th>\n",
       "      <th>taut_inchikey</th>\n",
       "      <th>canonical_smiles</th>\n",
       "      <th>std_inchikey</th>\n",
       "      <th>cas</th>\n",
       "      <th>name</th>\n",
       "    </tr>\n",
       "  </thead>\n",
       "  <tbody>\n",
       "    <tr>\n",
       "      <th>0</th>\n",
       "      <td>FMVJYQGSRWVMQV-UHFFFAOYNA-N</td>\n",
       "      <td>C#CC(=O)OCC</td>\n",
       "      <td>FMVJYQGSRWVMQV-UHFFFAOYSA-N</td>\n",
       "      <td>623-47-2</td>\n",
       "      <td>propynoic acid ethyl ester</td>\n",
       "    </tr>\n",
       "  </tbody>\n",
       "</table>\n",
       "</div>"
      ],
      "text/plain": [
       "                 taut_inchikey canonical_smiles                 std_inchikey  \\\n",
       "0  FMVJYQGSRWVMQV-UHFFFAOYNA-N      C#CC(=O)OCC  FMVJYQGSRWVMQV-UHFFFAOYSA-N   \n",
       "\n",
       "        cas                        name  \n",
       "0  623-47-2  propynoic acid ethyl ester  "
      ]
     },
     "execution_count": 30,
     "metadata": {},
     "output_type": "execute_result"
    }
   ],
   "source": [
    "df = pd.read_csv('lookup.csv')\n",
    "df"
   ]
  },
  {
   "cell_type": "code",
   "execution_count": 36,
   "metadata": {},
   "outputs": [
    {
     "data": {
      "text/plain": [
       "1"
      ]
     },
     "execution_count": 36,
     "metadata": {},
     "output_type": "execute_result"
    }
   ],
   "source": [
    "rows = df.loc[df.taut_inchikey == 'FMVJYQGSRWVMQV-UHFFFAOYNA-N']\n",
    "len(rows)"
   ]
  },
  {
   "cell_type": "code",
   "execution_count": 37,
   "metadata": {},
   "outputs": [
    {
     "name": "stdout",
     "output_type": "stream",
     "text": [
      "{'taut_inchikey': 'FMVJYQGSRWVMQV-UHFFFAOYNA-N', 'canonical_smiles': 'C#CC(=O)OCC', 'std_inchikey': 'FMVJYQGSRWVMQV-UHFFFAOYSA-N', 'cas': '623-47-2', 'name': 'propynoic acid ethyl ester'}\n"
     ]
    }
   ],
   "source": [
    "for row in rows.to_dict('records'):\n",
    "    print(row)"
   ]
  },
  {
   "cell_type": "code",
   "execution_count": 39,
   "metadata": {},
   "outputs": [],
   "source": [
    "dir = row['taut_inchikey']"
   ]
  },
  {
   "cell_type": "code",
   "execution_count": 45,
   "metadata": {},
   "outputs": [],
   "source": [
    "files = os.listdir(f'spectra/{dir}')\n",
    "\n",
    "pngs = [png for png in files if png.endswith('.png')]\n",
    "fids = [fid for fid in files if fid.endswith('.zip')]"
   ]
  },
  {
   "cell_type": "code",
   "execution_count": 46,
   "metadata": {},
   "outputs": [
    {
     "data": {
      "text/plain": [
       "['1h_cdcl3_raw.zip']"
      ]
     },
     "execution_count": 46,
     "metadata": {},
     "output_type": "execute_result"
    }
   ],
   "source": [
    "fids"
   ]
  }
 ],
 "metadata": {
  "kernelspec": {
   "display_name": "Python 3.10.4 ('nmr')",
   "language": "python",
   "name": "python3"
  },
  "language_info": {
   "codemirror_mode": {
    "name": "ipython",
    "version": 3
   },
   "file_extension": ".py",
   "mimetype": "text/x-python",
   "name": "python",
   "nbconvert_exporter": "python",
   "pygments_lexer": "ipython3",
   "version": "3.10.4"
  },
  "orig_nbformat": 4,
  "vscode": {
   "interpreter": {
    "hash": "4ab2bb8477ef84576fc61ca04db590572da2def19b5111fcfaadfa5265138aa5"
   }
  }
 },
 "nbformat": 4,
 "nbformat_minor": 2
}
